{
 "cells": [
  {
   "cell_type": "code",
   "execution_count": 1,
   "id": "beb2f510",
   "metadata": {},
   "outputs": [],
   "source": [
    "import torch\n",
    "import torch.nn as nn\n",
    "import torchvision.models as models\n",
    "\n",
    "from moco_builder import MoCo"
   ]
  },
  {
   "cell_type": "code",
   "execution_count": 2,
   "id": "becfb68e",
   "metadata": {},
   "outputs": [],
   "source": [
    "# model = MoCo(models.__dict__[\"resnet50\"], dim=128, K=65536, m=0.999, T=0.1, mlp=1)\n",
    "# # model.eval()"
   ]
  },
  {
   "cell_type": "code",
   "execution_count": 3,
   "id": "a1793229",
   "metadata": {},
   "outputs": [],
   "source": [
    "# model.encoder_q.load_state_dict(torch.load(\"pre_trained_Lup/lup_moco_r50.pth\"))"
   ]
  },
  {
   "cell_type": "code",
   "execution_count": 4,
   "id": "3c7fe21d",
   "metadata": {},
   "outputs": [],
   "source": [
    "# random_data1 = torch.randn(2, 3, 200, 200)\n",
    "# random_data2 = torch.randn(2, 3, 200, 200)"
   ]
  },
  {
   "cell_type": "code",
   "execution_count": 5,
   "id": "e693258e",
   "metadata": {},
   "outputs": [],
   "source": [
    "# feat = model(random_data1, random_data2)"
   ]
  },
  {
   "cell_type": "code",
   "execution_count": null,
   "id": "1988847f",
   "metadata": {},
   "outputs": [],
   "source": []
  },
  {
   "cell_type": "code",
   "execution_count": null,
   "id": "9fa993b4",
   "metadata": {},
   "outputs": [],
   "source": []
  },
  {
   "cell_type": "code",
   "execution_count": 15,
   "id": "ef65444a",
   "metadata": {},
   "outputs": [
    {
     "data": {
      "text/plain": [
       "_IncompatibleKeys(missing_keys=['fc.weight', 'fc.bias'], unexpected_keys=[])"
      ]
     },
     "execution_count": 15,
     "metadata": {},
     "output_type": "execute_result"
    }
   ],
   "source": [
    "encoder_q = models.__dict__[\"resnet50\"](num_classes=128)\n",
    "encoder_q.load_state_dict(torch.load(\"pre_trained_Lup/lup_moco_r50.pth\"), strict=False)"
   ]
  },
  {
   "cell_type": "code",
   "execution_count": 8,
   "id": "d8cf498b",
   "metadata": {},
   "outputs": [],
   "source": [
    "random_data1 = torch.randn(2, 3, 200, 200)"
   ]
  },
  {
   "cell_type": "code",
   "execution_count": 13,
   "id": "862a0b6f",
   "metadata": {},
   "outputs": [],
   "source": [
    "pred = encoder_q(random_data1)\n",
    "pred = nn.functional.normalize(pred, dim=1)"
   ]
  },
  {
   "cell_type": "code",
   "execution_count": 14,
   "id": "d3cdd92a",
   "metadata": {},
   "outputs": [
    {
     "data": {
      "text/plain": [
       "tensor([[-1.2141e-02,  1.0764e-01, -1.5752e-02, -2.0902e-01, -1.9319e-02,\n",
       "         -1.8535e-01, -7.3542e-02, -1.9685e-01, -6.5990e-02,  7.6349e-02,\n",
       "          8.1613e-02,  5.4378e-02, -1.2471e-02, -1.1025e-01, -1.1960e-01,\n",
       "          3.8438e-02, -8.5512e-02, -4.7961e-02,  4.0048e-02,  7.5820e-02,\n",
       "         -7.7958e-02, -1.4182e-02,  4.2646e-02,  1.3601e-01,  1.0041e-01,\n",
       "         -2.6588e-02,  8.6787e-02,  1.2965e-01, -3.3074e-03,  1.4373e-02,\n",
       "         -1.0630e-01,  5.0849e-02, -9.7732e-02,  1.5361e-01, -1.3189e-01,\n",
       "         -7.7972e-03, -1.0945e-01, -7.9910e-02, -4.0150e-02,  2.4175e-02,\n",
       "         -4.2336e-02,  1.6707e-01, -8.7679e-02, -1.0763e-02,  2.1075e-02,\n",
       "         -9.4209e-03,  5.4308e-02,  6.7787e-03,  1.4919e-01,  1.8275e-02,\n",
       "          5.2332e-02,  4.6684e-02, -6.1992e-02,  3.7946e-02, -1.0127e-01,\n",
       "         -5.4874e-05,  4.7141e-03, -1.0128e-01,  1.5135e-01,  1.3290e-01,\n",
       "         -1.3015e-01, -5.0342e-02, -1.3236e-01,  4.8209e-02,  9.6111e-03,\n",
       "         -7.1170e-02, -1.8291e-01, -3.9595e-03,  3.9759e-02, -7.3295e-02,\n",
       "          1.4858e-01,  2.4970e-02, -1.3266e-01, -3.6887e-02,  3.0485e-02,\n",
       "          1.4227e-01,  1.1143e-01, -3.9912e-02,  6.5844e-02, -5.7481e-02,\n",
       "          6.0505e-02, -6.3854e-02, -1.3134e-01, -3.6710e-03,  2.9891e-02,\n",
       "         -9.4287e-03,  4.5565e-02,  4.4927e-02, -8.8114e-02,  6.0673e-02,\n",
       "         -1.6035e-02, -1.1494e-01, -2.2429e-02,  2.7450e-02,  5.0497e-02,\n",
       "         -1.3696e-01, -1.2919e-01, -2.1590e-02, -1.0346e-01,  6.4984e-02,\n",
       "         -1.0839e-01, -8.4826e-02,  1.4205e-01,  1.2218e-02,  1.1205e-01,\n",
       "          3.2347e-02,  2.4258e-02, -3.5312e-02, -3.7289e-02, -2.0369e-01,\n",
       "          6.2921e-03,  2.1383e-02, -7.0018e-02, -3.3636e-02, -7.9213e-02,\n",
       "         -5.9299e-02, -1.7972e-01, -5.2924e-02,  3.8592e-02,  1.3680e-01,\n",
       "         -7.7732e-02,  3.9069e-02,  8.1455e-02, -1.1738e-01,  9.8359e-02,\n",
       "         -2.2544e-02, -3.9826e-02, -1.7516e-01],\n",
       "        [-3.0798e-02,  1.1495e-01, -7.6927e-02, -1.6747e-01, -1.9877e-02,\n",
       "         -2.0236e-01, -7.9344e-02, -1.9014e-01, -4.2854e-02,  1.3340e-01,\n",
       "          7.5669e-02,  1.1823e-02, -2.2094e-02, -8.6239e-02, -8.5678e-02,\n",
       "          1.1268e-02, -1.3512e-01, -3.3486e-02,  5.5860e-02,  7.4850e-02,\n",
       "         -8.3197e-02, -7.1660e-03,  1.6596e-02,  1.1779e-01,  1.0635e-01,\n",
       "          4.9203e-02,  8.8946e-02,  9.0815e-02, -2.1521e-03, -9.2847e-02,\n",
       "         -9.7535e-02,  4.6741e-02, -9.6526e-02,  1.6330e-01, -9.0274e-02,\n",
       "          1.1077e-02, -9.7389e-02, -8.8173e-02,  1.3017e-02,  1.3476e-02,\n",
       "         -7.3582e-02,  1.7820e-01, -7.3223e-02,  2.1142e-02,  4.6447e-02,\n",
       "          1.2454e-02,  2.6666e-02,  5.5483e-04,  1.7492e-01, -2.6320e-02,\n",
       "          6.0519e-02,  7.5287e-02, -8.1312e-02,  1.5328e-02, -5.9297e-02,\n",
       "         -2.6350e-02,  3.9420e-02, -8.8928e-02,  1.1050e-01,  1.5203e-01,\n",
       "         -1.0321e-01, -8.4440e-02, -1.6539e-01,  5.5531e-02, -1.6398e-02,\n",
       "         -9.5511e-02, -1.6830e-01, -4.5307e-02,  3.6972e-02, -1.3112e-01,\n",
       "          1.1155e-01,  8.1587e-02, -8.3506e-02, -5.0322e-02,  1.2940e-02,\n",
       "          1.4095e-01,  1.3848e-01,  1.0712e-02,  2.3496e-02, -1.7378e-02,\n",
       "          8.3605e-02, -1.9222e-02, -8.0568e-02,  7.5361e-03,  3.3468e-02,\n",
       "         -1.7574e-03,  5.2291e-02, -1.6622e-02, -1.1671e-01,  1.1150e-01,\n",
       "          9.7337e-03, -1.1572e-01, -3.6129e-02,  4.7136e-02,  6.2164e-02,\n",
       "         -1.3193e-01, -8.0762e-02, -2.5627e-02, -8.7639e-02,  1.0334e-01,\n",
       "         -1.2113e-01, -8.9395e-03,  1.2835e-01,  6.2298e-02,  1.1374e-01,\n",
       "          1.0475e-01,  5.6455e-02,  2.3509e-02, -5.0833e-02, -1.9883e-01,\n",
       "         -2.6818e-03,  7.1044e-02, -1.1208e-01, -2.8684e-02, -6.5381e-02,\n",
       "         -4.5860e-02, -1.5228e-01, -3.2845e-02, -2.3753e-03,  1.1007e-01,\n",
       "         -8.2782e-02,  5.4301e-02,  1.0704e-01, -1.4603e-01,  1.0801e-01,\n",
       "          4.2276e-03, -5.4620e-02, -1.2974e-01]], grad_fn=<DivBackward0>)"
      ]
     },
     "execution_count": 14,
     "metadata": {},
     "output_type": "execute_result"
    }
   ],
   "source": [
    "pred"
   ]
  },
  {
   "cell_type": "code",
   "execution_count": null,
   "id": "a67f731b",
   "metadata": {},
   "outputs": [],
   "source": []
  },
  {
   "cell_type": "code",
   "execution_count": null,
   "id": "66b4de75",
   "metadata": {},
   "outputs": [],
   "source": []
  },
  {
   "cell_type": "code",
   "execution_count": null,
   "id": "62a93610",
   "metadata": {},
   "outputs": [],
   "source": []
  }
 ],
 "metadata": {
  "kernelspec": {
   "display_name": "Python 3 (ipykernel)",
   "language": "python",
   "name": "python3"
  },
  "language_info": {
   "codemirror_mode": {
    "name": "ipython",
    "version": 3
   },
   "file_extension": ".py",
   "mimetype": "text/x-python",
   "name": "python",
   "nbconvert_exporter": "python",
   "pygments_lexer": "ipython3",
   "version": "3.9.13"
  }
 },
 "nbformat": 4,
 "nbformat_minor": 5
}
